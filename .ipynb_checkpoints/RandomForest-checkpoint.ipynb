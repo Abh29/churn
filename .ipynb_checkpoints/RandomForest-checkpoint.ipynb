{
 "cells": [
  {
   "cell_type": "code",
   "execution_count": null,
   "id": "8dac10e2",
   "metadata": {},
   "outputs": [],
   "source": [
    "import pandas as pd\n",
    "import numpy as np\n",
    "from sklearn.ensemble import RandomForestClassifier\n",
    "from sklearn.preprocessing import LabelEncoder\n",
    "from sklearn.preprocessing import StandardScaler\n",
    "from sklearn.model_selection import train_test_split\n",
    "from sklearn.model_selection import GridSearchCV"
   ]
  },
  {
   "cell_type": "code",
   "execution_count": null,
   "id": "6e21a7bf",
   "metadata": {},
   "outputs": [],
   "source": [
    "df = pd.read_csv('bank_data_nan_imputed.csv')\n",
    "\n",
    "df.info(verbose=True, null_counts=True)"
   ]
  },
  {
   "cell_type": "code",
   "execution_count": null,
   "id": "cc18ca01",
   "metadata": {},
   "outputs": [],
   "source": [
    "y = df['TARGET']\n",
    "X = df.drop(['TARGET'], axis=1)\n",
    "X_train, X_test, y_train, y_test = train_test_split(X, y, test_size=0.2, random_state=113, stratify=y)"
   ]
  },
  {
   "cell_type": "code",
   "execution_count": null,
   "id": "0499410c",
   "metadata": {},
   "outputs": [],
   "source": [
    "param_grid = {'max_features' : ['sqrt', 'auto'],\n",
    "             'max_depth': [10],\n",
    "             'min_samples_split': [2],\n",
    "             'min_samples_leaf': [1],\n",
    "             'bootstrap': [True, False]}"
   ]
  },
  {
   "cell_type": "code",
   "execution_count": null,
   "id": "d19d6704",
   "metadata": {},
   "outputs": [],
   "source": [
    "rfc = RandomForestClassifier()\n",
    "rfg = GridSearchCV(estimator=rfc, param_grid=param_grid, cv=3, verbose=2, n_jobs=4)"
   ]
  },
  {
   "cell_type": "code",
   "execution_count": null,
   "id": "5cee5e1b",
   "metadata": {},
   "outputs": [],
   "source": [
    "rfg.fit(X_train, y_train)"
   ]
  },
  {
   "cell_type": "code",
   "execution_count": null,
   "id": "e7068563",
   "metadata": {},
   "outputs": [],
   "source": [
    "def evaluate(model, x_test, y_test):\n",
    "    n = len(y_test)\n",
    "    v = 0\n",
    "    i = 0\n",
    "    predictions = model.predict(x_test)\n",
    "    for y in y_test:\n",
    "        if predictions[i] == y:\n",
    "            v += 1\n",
    "        i += 1\n",
    "    print('Accuracy = {:0.2f}%.'.format(v/float(n)))"
   ]
  },
  {
   "cell_type": "code",
   "execution_count": 4,
   "id": "b0f93d48",
   "metadata": {},
   "outputs": [
    {
     "name": "stdout",
     "output_type": "stream",
     "text": [
      "Accuracy = 0.92%.\n"
     ]
    }
   ],
   "source": [
    "evaluate(rfg.best_estimator_, X_test, y_test)"
   ]
  }
 ],
 "metadata": {
  "kernelspec": {
   "display_name": "ML",
   "language": "python",
   "name": "ml"
  },
  "language_info": {
   "codemirror_mode": {
    "name": "ipython",
    "version": 3
   },
   "file_extension": ".py",
   "mimetype": "text/x-python",
   "name": "python",
   "nbconvert_exporter": "python",
   "pygments_lexer": "ipython3",
   "version": "3.9.12"
  }
 },
 "nbformat": 4,
 "nbformat_minor": 5
}
