{
 "cells": [
  {
   "cell_type": "code",
   "execution_count": 1,
   "id": "f6df7453",
   "metadata": {},
   "outputs": [],
   "source": [
    "import pandas as pd\n",
    "import numpy as np\n",
    "from sklearn.ensemble import RandomForestClassifier\n",
    "from sklearn.preprocessing import LabelEncoder\n",
    "from sklearn.preprocessing import StandardScaler\n",
    "from sklearn.model_selection import train_test_split\n",
    "from sklearn.experimental import enable_iterative_imputer\n",
    "from sklearn.impute import IterativeImputer\n",
    "from sklearn.impute import KNNImputer"
   ]
  },
  {
   "cell_type": "code",
   "execution_count": 2,
   "id": "1333e52f",
   "metadata": {},
   "outputs": [
    {
     "name": "stdout",
     "output_type": "stream",
     "text": [
      "<class 'pandas.core.frame.DataFrame'>\n",
      "RangeIndex: 355190 entries, 0 to 355189\n",
      "Columns: 116 entries, ID to TARGET\n",
      "dtypes: float64(94), int64(9), object(13)\n",
      "memory usage: 314.3+ MB\n"
     ]
    }
   ],
   "source": [
    "df = pd.read_csv('bank_data_train.csv')\n",
    "\n",
    "df.info()"
   ]
  },
  {
   "cell_type": "code",
   "execution_count": 3,
   "id": "18ff986d",
   "metadata": {},
   "outputs": [],
   "source": [
    "df.drop(['ID', 'APP_DRIVING_LICENSE', 'APP_TRAVEL_PASS', 'APP_CAR', 'APP_DRIVING_LICENSE'], axis=1, inplace=True)\n",
    "df.drop(['PRC_ACCEPTS_A_EMAIL_LINK', 'PRC_ACCEPTS_A_POS', 'PRC_ACCEPTS_A_TK', 'PRC_ACCEPTS_A_AMOBILE', 'PRC_ACCEPTS_TK'], axis=1, inplace=True)\n",
    "df.drop(['PRC_ACCEPTS_A_MTP', 'PRC_ACCEPTS_A_MTP', 'CNT_ACCEPTS_TK', 'PRC_ACCEPTS_A_ATM', 'PRC_ACCEPTS_MTP', 'CNT_ACCEPTS_MTP'], axis=1, inplace=True)\n",
    "df.drop(['LDEAL_DELINQ_PER_MAXYQZ', 'MED_DEBT_PRC_YQZ', 'LDEAL_DELINQ_PER_MAXYWZ'], axis=1, inplace=True)\n",
    "df.drop(['LDEAL_ACT_DAYS_PCT_TR3', 'LDEAL_ACT_DAYS_PCT_AAVG', 'LDEAL_ACT_DAYS_PCT_TR', 'LDEAL_ACT_DAYS_PCT_TR4','LDEAL_ACT_DAYS_PCT_CURR'], axis=1, inplace=True)\n",
    "df.drop(['APP_REGISTR_RGN_CODE'], axis=1, inplace=True)\n",
    "df['APP_KIND_OF_PROP_HABITATION'].fillna('OTHER', inplace=True)\n",
    "df['APP_POSITION_TYPE'].fillna('OTHER', inplace=True)\n",
    "df['CLNT_JOB_POSITION_TYPE'].fillna('OTHER', inplace=True)\n",
    "df['APP_COMP_TYPE'].fillna('OTHER', inplace=True)\n",
    "df['APP_EMP_TYPE'].fillna('OTHER', inplace=True)\n",
    "df.loc[df['APP_MARITAL_STATUS'] == 'm', 'APP_MARITAL_STATUS'] = 'M'\n",
    "df.loc[df['APP_MARITAL_STATUS'] == 'v', 'APP_MARITAL_STATUS'] = 'V'\n",
    "df.loc[df['APP_MARITAL_STATUS'] == 'w', 'APP_MARITAL_STATUS'] = 'W'\n",
    "df.loc[df['APP_MARITAL_STATUS'] == 'd', 'APP_MARITAL_STATUS'] = 'D'\n",
    "df.loc[df['APP_MARITAL_STATUS'] == 't', 'APP_MARITAL_STATUS'] = 'T'\n",
    "df['APP_MARITAL_STATUS'].fillna('OTHER', inplace=True)\n",
    "df.loc[df['APP_EDUCATION'] == 'a', 'APP_EDUCATION'] = 'A'\n",
    "df.loc[df['APP_EDUCATION'] == 'e', 'APP_EDUCATION'] = 'E'\n",
    "df.loc[df['APP_EDUCATION'] == 'i', 'APP_EDUCATION'] = 'I'\n",
    "df.loc[df['APP_EDUCATION'] == 's', 'APP_EDUCATION'] = 'S'\n",
    "df.loc[df['APP_EDUCATION'] == 'h', 'APP_EDUCATION'] = 'H'\n",
    "df['APP_EDUCATION'].fillna('OTHER', inplace=True)\n",
    "df.loc[df['CLNT_TRUST_RELATION'] == 'Друг', 'CLNT_TRUST_RELATION'] = 'FRIEND'\n",
    "df.loc[df['CLNT_TRUST_RELATION'] == 'Мать', 'CLNT_TRUST_RELATION'] = 'MOTHER'\n",
    "df.loc[df['CLNT_TRUST_RELATION'] == 'Близкий ро', 'CLNT_TRUST_RELATION'] = 'RELATIVE'\n",
    "df.loc[df['CLNT_TRUST_RELATION'] == 'Брат', 'CLNT_TRUST_RELATION'] = 'BROTHER'\n",
    "df.loc[df['CLNT_TRUST_RELATION'] == 'Отец', 'CLNT_TRUST_RELATION'] = 'FATHER'\n",
    "df.loc[df['CLNT_TRUST_RELATION'] == 'Сестра', 'CLNT_TRUST_RELATION'] = 'SISTER'\n",
    "df.loc[df['CLNT_TRUST_RELATION'] == 'Дочь', 'CLNT_TRUST_RELATION'] = 'DAUGHTER'\n",
    "df.loc[df['CLNT_TRUST_RELATION'] == 'Сын', 'CLNT_TRUST_RELATION'] = 'SON'\n",
    "df.loc[df['CLNT_TRUST_RELATION'] == 'Дальний ро', 'CLNT_TRUST_RELATION'] = 'RELATIVE'\n",
    "df.loc[df['CLNT_TRUST_RELATION'] == 'Муж', 'CLNT_TRUST_RELATION'] = 'HUSBAND'\n",
    "df.loc[df['CLNT_TRUST_RELATION'] == 'мать', 'CLNT_TRUST_RELATION'] = 'MOTHER'\n",
    "df.loc[df['CLNT_TRUST_RELATION'] == 'Жена', 'CLNT_TRUST_RELATION'] = 'WIFE'\n",
    "df['CLNT_TRUST_RELATION'].fillna('OTHER', inplace=True)\n",
    "df['AMOUNT_RUB_CLO_PRC'].fillna(0.0, inplace=True)\n",
    "df['CLNT_SALARY_VALUE'].fillna(df['CLNT_SALARY_VALUE'].mean(), inplace=True)\n",
    "df['DEAL_YWZ_IR_MAX'].fillna(df['DEAL_YWZ_IR_MAX'].mean(), inplace=True)\n",
    "df['APP_MARITAL_STATUS'].fillna('OTHER', inplace=True)"
   ]
  },
  {
   "cell_type": "code",
   "execution_count": 4,
   "id": "cc8e5cbc",
   "metadata": {},
   "outputs": [],
   "source": [
    "for column in df.columns:\n",
    "    if (df[column].dtype == np.float64):\n",
    "        continue\n",
    "    df[column] = LabelEncoder().fit_transform(df[column])"
   ]
  },
  {
   "cell_type": "code",
   "execution_count": 5,
   "id": "bab7f7bb",
   "metadata": {},
   "outputs": [],
   "source": [
    "df.fillna(-1.0, inplace=True)"
   ]
  },
  {
   "cell_type": "code",
   "execution_count": 6,
   "id": "8aa7f672",
   "metadata": {},
   "outputs": [],
   "source": [
    "df.to_csv('./bank_data_nan_imputed.csv')  "
   ]
  },
  {
   "cell_type": "code",
   "execution_count": null,
   "id": "ec1187f9",
   "metadata": {},
   "outputs": [],
   "source": []
  }
 ],
 "metadata": {
  "kernelspec": {
   "display_name": "ML",
   "language": "python",
   "name": "ml"
  },
  "language_info": {
   "codemirror_mode": {
    "name": "ipython",
    "version": 3
   },
   "file_extension": ".py",
   "mimetype": "text/x-python",
   "name": "python",
   "nbconvert_exporter": "python",
   "pygments_lexer": "ipython3",
   "version": "3.9.12"
  }
 },
 "nbformat": 4,
 "nbformat_minor": 5
}
