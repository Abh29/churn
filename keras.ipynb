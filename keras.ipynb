{
 "cells": [
  {
   "cell_type": "code",
   "execution_count": 1,
   "id": "44522ac0",
   "metadata": {},
   "outputs": [],
   "source": [
    "import numpy as np \n",
    "import pandas as pd \n",
    "from matplotlib import pyplot as plt \n",
    "from sklearn.model_selection import train_test_split \n",
    "import keras \n",
    "from keras.models import Sequential \n",
    "from keras.layers import InputLayer \n",
    "from keras.layers import Dense \n",
    "from keras.layers import Dropout \n",
    "from keras.constraints import maxnorm\n",
    "from sklearn.preprocessing import LabelEncoder"
   ]
  },
  {
   "cell_type": "code",
   "execution_count": 13,
   "id": "fd013db8",
   "metadata": {},
   "outputs": [
    {
     "name": "stdout",
     "output_type": "stream",
     "text": [
      "<class 'pandas.core.frame.DataFrame'>\n",
      "RangeIndex: 355190 entries, 0 to 355189\n",
      "Data columns (total 94 columns):\n",
      " #   Column                       Non-Null Count   Dtype  \n",
      "---  ------                       --------------   -----  \n",
      " 0   Unnamed: 0                   355190 non-null  int64  \n",
      " 1   CR_PROD_CNT_IL               355190 non-null  int64  \n",
      " 2   AMOUNT_RUB_CLO_PRC           355190 non-null  float64\n",
      " 3   TURNOVER_DYNAMIC_IL_1M       355190 non-null  float64\n",
      " 4   CNT_TRAN_AUT_TENDENCY1M      355190 non-null  float64\n",
      " 5   SUM_TRAN_AUT_TENDENCY1M      355190 non-null  float64\n",
      " 6   AMOUNT_RUB_SUP_PRC           355190 non-null  float64\n",
      " 7   SUM_TRAN_AUT_TENDENCY3M      355190 non-null  float64\n",
      " 8   CLNT_TRUST_RELATION          355190 non-null  int64  \n",
      " 9   REST_DYNAMIC_FDEP_1M         355190 non-null  float64\n",
      " 10  CNT_TRAN_AUT_TENDENCY3M      355190 non-null  float64\n",
      " 11  APP_MARITAL_STATUS           355190 non-null  int64  \n",
      " 12  REST_DYNAMIC_SAVE_3M         355190 non-null  float64\n",
      " 13  CR_PROD_CNT_VCU              355190 non-null  int64  \n",
      " 14  REST_AVG_CUR                 355190 non-null  float64\n",
      " 15  CNT_TRAN_MED_TENDENCY1M      355190 non-null  float64\n",
      " 16  APP_KIND_OF_PROP_HABITATION  355190 non-null  int64  \n",
      " 17  CLNT_JOB_POSITION_TYPE       355190 non-null  int64  \n",
      " 18  AMOUNT_RUB_NAS_PRC           355190 non-null  float64\n",
      " 19  CLNT_JOB_POSITION            355190 non-null  int64  \n",
      " 20  TRANS_COUNT_SUP_PRC          355190 non-null  float64\n",
      " 21  APP_EDUCATION                355190 non-null  int64  \n",
      " 22  CNT_TRAN_CLO_TENDENCY1M      355190 non-null  float64\n",
      " 23  SUM_TRAN_MED_TENDENCY1M      355190 non-null  float64\n",
      " 24  TRANS_COUNT_NAS_PRC          355190 non-null  float64\n",
      " 25  CR_PROD_CNT_TOVR             355190 non-null  int64  \n",
      " 26  CR_PROD_CNT_PIL              355190 non-null  int64  \n",
      " 27  SUM_TRAN_CLO_TENDENCY1M      355190 non-null  float64\n",
      " 28  APP_POSITION_TYPE            355190 non-null  int64  \n",
      " 29  TURNOVER_CC                  355190 non-null  float64\n",
      " 30  TRANS_COUNT_ATM_PRC          355190 non-null  float64\n",
      " 31  AMOUNT_RUB_ATM_PRC           355190 non-null  float64\n",
      " 32  TURNOVER_PAYM                355190 non-null  float64\n",
      " 33  AGE                          355190 non-null  int64  \n",
      " 34  CNT_TRAN_MED_TENDENCY3M      355190 non-null  float64\n",
      " 35  CR_PROD_CNT_CC               355190 non-null  int64  \n",
      " 36  SUM_TRAN_MED_TENDENCY3M      355190 non-null  float64\n",
      " 37  REST_DYNAMIC_FDEP_3M         355190 non-null  float64\n",
      " 38  REST_DYNAMIC_IL_1M           355190 non-null  float64\n",
      " 39  APP_EMP_TYPE                 355190 non-null  int64  \n",
      " 40  SUM_TRAN_CLO_TENDENCY3M      355190 non-null  float64\n",
      " 41  LDEAL_TENOR_MAX              355190 non-null  float64\n",
      " 42  LDEAL_YQZ_CHRG               355190 non-null  float64\n",
      " 43  CR_PROD_CNT_CCFP             355190 non-null  int64  \n",
      " 44  DEAL_YQZ_IR_MAX              355190 non-null  float64\n",
      " 45  LDEAL_YQZ_COM                355190 non-null  float64\n",
      " 46  DEAL_YQZ_IR_MIN              355190 non-null  float64\n",
      " 47  CNT_TRAN_CLO_TENDENCY3M      355190 non-null  float64\n",
      " 48  REST_DYNAMIC_CUR_1M          355190 non-null  float64\n",
      " 49  REST_AVG_PAYM                355190 non-null  float64\n",
      " 50  LDEAL_TENOR_MIN              355190 non-null  float64\n",
      " 51  LDEAL_AMT_MONTH              355190 non-null  float64\n",
      " 52  APP_COMP_TYPE                355190 non-null  int64  \n",
      " 53  LDEAL_GRACE_DAYS_PCT_MED     355190 non-null  float64\n",
      " 54  REST_DYNAMIC_CUR_3M          355190 non-null  float64\n",
      " 55  CNT_TRAN_SUP_TENDENCY3M      355190 non-null  float64\n",
      " 56  TURNOVER_DYNAMIC_CUR_1M      355190 non-null  float64\n",
      " 57  REST_DYNAMIC_PAYM_3M         355190 non-null  float64\n",
      " 58  SUM_TRAN_SUP_TENDENCY3M      355190 non-null  float64\n",
      " 59  REST_DYNAMIC_IL_3M           355190 non-null  float64\n",
      " 60  CNT_TRAN_ATM_TENDENCY3M      355190 non-null  float64\n",
      " 61  CNT_TRAN_ATM_TENDENCY1M      355190 non-null  float64\n",
      " 62  TURNOVER_DYNAMIC_IL_3M       355190 non-null  float64\n",
      " 63  SUM_TRAN_ATM_TENDENCY3M      355190 non-null  float64\n",
      " 64  DEAL_GRACE_DAYS_ACC_S1X1     355190 non-null  float64\n",
      " 65  AVG_PCT_MONTH_TO_PCLOSE      355190 non-null  float64\n",
      " 66  DEAL_YWZ_IR_MIN              355190 non-null  float64\n",
      " 67  SUM_TRAN_SUP_TENDENCY1M      355190 non-null  float64\n",
      " 68  DEAL_YWZ_IR_MAX              355190 non-null  float64\n",
      " 69  SUM_TRAN_ATM_TENDENCY1M      355190 non-null  float64\n",
      " 70  REST_DYNAMIC_PAYM_1M         355190 non-null  float64\n",
      " 71  CNT_TRAN_SUP_TENDENCY1M      355190 non-null  float64\n",
      " 72  DEAL_GRACE_DAYS_ACC_AVG      355190 non-null  float64\n",
      " 73  TURNOVER_DYNAMIC_CUR_3M      355190 non-null  float64\n",
      " 74  PACK                         355190 non-null  int64  \n",
      " 75  MAX_PCLOSE_DATE              355190 non-null  float64\n",
      " 76  LDEAL_YQZ_PC                 355190 non-null  float64\n",
      " 77  CLNT_SETUP_TENOR             355190 non-null  float64\n",
      " 78  DEAL_GRACE_DAYS_ACC_MAX      355190 non-null  float64\n",
      " 79  TURNOVER_DYNAMIC_PAYM_3M     355190 non-null  float64\n",
      " 80  TURNOVER_DYNAMIC_PAYM_1M     355190 non-null  float64\n",
      " 81  CLNT_SALARY_VALUE            355190 non-null  float64\n",
      " 82  TRANS_AMOUNT_TENDENCY3M      355190 non-null  float64\n",
      " 83  TRANS_CNT_TENDENCY3M         355190 non-null  float64\n",
      " 84  LDEAL_USED_AMT_AVG_YQZ       355190 non-null  float64\n",
      " 85  REST_DYNAMIC_CC_1M           355190 non-null  float64\n",
      " 86  LDEAL_USED_AMT_AVG_YWZ       355190 non-null  float64\n",
      " 87  TURNOVER_DYNAMIC_CC_1M       355190 non-null  float64\n",
      " 88  AVG_PCT_DEBT_TO_DEAL_AMT     355190 non-null  float64\n",
      " 89  LDEAL_ACT_DAYS_ACC_PCT_AVG   355190 non-null  float64\n",
      " 90  REST_DYNAMIC_CC_3M           355190 non-null  float64\n",
      " 91  MED_DEBT_PRC_YWZ             355190 non-null  float64\n",
      " 92  TURNOVER_DYNAMIC_CC_3M       355190 non-null  float64\n",
      " 93  TARGET                       355190 non-null  int64  \n",
      "dtypes: float64(75), int64(19)\n",
      "memory usage: 254.7 MB\n"
     ]
    }
   ],
   "source": [
    "df = pd.read_csv('bank_data_nan_imputed.csv')\n",
    "\n",
    "df.info()"
   ]
  },
  {
   "cell_type": "code",
   "execution_count": 53,
   "id": "5cde4ea8",
   "metadata": {},
   "outputs": [
    {
     "data": {
      "text/plain": [
       "NaN      347189\n",
       "24.0       1316\n",
       "36.0       1164\n",
       "12.0       1066\n",
       "6.0         642\n",
       "          ...  \n",
       "75.0          1\n",
       "123.0         1\n",
       "81.0          1\n",
       "69.0          1\n",
       "158.0         1\n",
       "Name: LDEAL_TENOR_MAX, Length: 80, dtype: int64"
      ]
     },
     "execution_count": 53,
     "metadata": {},
     "output_type": "execute_result"
    }
   ],
   "source": [
    "df.drop(['ID', 'APP_DRIVING_LICENSE', 'APP_TRAVEL_PASS', 'APP_CAR', 'APP_DRIVING_LICENSE'], axis=1, inplace=True)\n",
    "df.drop(['PRC_ACCEPTS_A_EMAIL_LINK', 'PRC_ACCEPTS_A_POS', 'PRC_ACCEPTS_A_TK', 'PRC_ACCEPTS_A_AMOBILE', 'PRC_ACCEPTS_TK'], axis=1, inplace=True)\n",
    "df.drop(['PRC_ACCEPTS_A_MTP', 'PRC_ACCEPTS_A_MTP', 'CNT_ACCEPTS_TK', 'PRC_ACCEPTS_A_ATM', 'PRC_ACCEPTS_MTP', 'CNT_ACCEPTS_MTP'], axis=1, inplace=True)\n",
    "df.drop(['LDEAL_DELINQ_PER_MAXYQZ', 'MED_DEBT_PRC_YQZ', 'LDEAL_DELINQ_PER_MAXYWZ'], axis=1, inplace=True)\n",
    "df.drop(['LDEAL_ACT_DAYS_PCT_TR3', 'LDEAL_ACT_DAYS_PCT_AAVG', 'LDEAL_ACT_DAYS_PCT_TR', 'LDEAL_ACT_DAYS_PCT_TR4','LDEAL_ACT_DAYS_PCT_CURR'], axis=1, inplace=True)\n",
    "df.drop(['APP_REGISTR_RGN_CODE'], axis=1, inplace=True)\n",
    "df['APP_KIND_OF_PROP_HABITATION'].fillna('OTHER', inplace=True)\n",
    "df['APP_POSITION_TYPE'].fillna('OTHER', inplace=True)\n",
    "df['CLNT_JOB_POSITION_TYPE'].fillna('OTHER', inplace=True)\n",
    "df['APP_COMP_TYPE'].fillna('OTHER', inplace=True)\n",
    "df['APP_EMP_TYPE'].fillna('OTHER', inplace=True)\n",
    "df.loc[df['APP_MARITAL_STATUS'] == 'm', 'APP_MARITAL_STATUS'] = 'M'\n",
    "df.loc[df['APP_MARITAL_STATUS'] == 'v', 'APP_MARITAL_STATUS'] = 'V'\n",
    "df.loc[df['APP_MARITAL_STATUS'] == 'w', 'APP_MARITAL_STATUS'] = 'W'\n",
    "df.loc[df['APP_MARITAL_STATUS'] == 'd', 'APP_MARITAL_STATUS'] = 'D'\n",
    "df.loc[df['APP_MARITAL_STATUS'] == 't', 'APP_MARITAL_STATUS'] = 'T'\n",
    "df['APP_MARITAL_STATUS'].fillna('OTHER', inplace=True)\n",
    "df.loc[df['APP_EDUCATION'] == 'a', 'APP_EDUCATION'] = 'A'\n",
    "df.loc[df['APP_EDUCATION'] == 'e', 'APP_EDUCATION'] = 'E'\n",
    "df.loc[df['APP_EDUCATION'] == 'i', 'APP_EDUCATION'] = 'I'\n",
    "df.loc[df['APP_EDUCATION'] == 's', 'APP_EDUCATION'] = 'S'\n",
    "df.loc[df['APP_EDUCATION'] == 'h', 'APP_EDUCATION'] = 'H'\n",
    "df['APP_EDUCATION'].fillna('OTHER', inplace=True)\n",
    "df.loc[df['CLNT_TRUST_RELATION'] == 'Друг', 'CLNT_TRUST_RELATION'] = 'FRIEND'\n",
    "df.loc[df['CLNT_TRUST_RELATION'] == 'Мать', 'CLNT_TRUST_RELATION'] = 'MOTHER'\n",
    "df.loc[df['CLNT_TRUST_RELATION'] == 'Близкий ро', 'CLNT_TRUST_RELATION'] = 'RELATIVE'\n",
    "df.loc[df['CLNT_TRUST_RELATION'] == 'Брат', 'CLNT_TRUST_RELATION'] = 'BROTHER'\n",
    "df.loc[df['CLNT_TRUST_RELATION'] == 'Отец', 'CLNT_TRUST_RELATION'] = 'FATHER'\n",
    "df.loc[df['CLNT_TRUST_RELATION'] == 'Сестра', 'CLNT_TRUST_RELATION'] = 'SISTER'\n",
    "df.loc[df['CLNT_TRUST_RELATION'] == 'Дочь', 'CLNT_TRUST_RELATION'] = 'DAUGHTER'\n",
    "df.loc[df['CLNT_TRUST_RELATION'] == 'Сын', 'CLNT_TRUST_RELATION'] = 'SON'\n",
    "df.loc[df['CLNT_TRUST_RELATION'] == 'Дальний ро', 'CLNT_TRUST_RELATION'] = 'RELATIVE'\n",
    "df.loc[df['CLNT_TRUST_RELATION'] == 'Муж', 'CLNT_TRUST_RELATION'] = 'HUSBAND'\n",
    "df.loc[df['CLNT_TRUST_RELATION'] == 'мать', 'CLNT_TRUST_RELATION'] = 'MOTHER'\n",
    "df.loc[df['CLNT_TRUST_RELATION'] == 'Жена', 'CLNT_TRUST_RELATION'] = 'WIFE'\n",
    "df['CLNT_TRUST_RELATION'].fillna('OTHER', inplace=True)\n",
    "df['AMOUNT_RUB_CLO_PRC'].fillna(0.0, inplace=True)\n",
    "df['CLNT_SALARY_VALUE'].fillna(df['CLNT_SALARY_VALUE'].mean(), inplace=True)\n",
    "df['DEAL_YWZ_IR_MAX'].fillna(df['DEAL_YWZ_IR_MAX'].mean(), inplace=True)\n",
    "df['APP_MARITAL_STATUS'].fillna('OTHER', inplace=True)\n",
    "df['LDEAL_TENOR_MAX'].value_counts(dropna=False)"
   ]
  },
  {
   "cell_type": "code",
   "execution_count": 14,
   "id": "cf7bf4be",
   "metadata": {},
   "outputs": [],
   "source": [
    "for column in df.columns:\n",
    "    if (df[column].dtype == np.float64):\n",
    "        continue\n",
    "    df[column] = LabelEncoder().fit_transform(df[column])"
   ]
  },
  {
   "cell_type": "code",
   "execution_count": 15,
   "id": "b77980fc",
   "metadata": {},
   "outputs": [],
   "source": [
    "y = df['TARGET']\n",
    "X = df.drop(['TARGET'], axis=1)"
   ]
  },
  {
   "cell_type": "code",
   "execution_count": 16,
   "id": "51770e11",
   "metadata": {},
   "outputs": [],
   "source": [
    "X_train, X_test, y_train, y_test = train_test_split(X, y, test_size=0.2, random_state=111)"
   ]
  },
  {
   "cell_type": "code",
   "execution_count": 20,
   "id": "11cfd9af",
   "metadata": {},
   "outputs": [],
   "source": [
    "model = Sequential()\n",
    "model.add(Dense(128, input_dim=93, activation='relu', kernel_constraint=maxnorm(3)))\n",
    "model.add(Dropout(rate=0.2))\n",
    "model.add(Dense(64, activation='relu', kernel_constraint=maxnorm(3)))\n",
    "model.add(Dropout(rate=0.2))\n",
    "model.add(Dense(64, activation='relu', kernel_constraint=maxnorm(3)))\n",
    "model.add(Dropout(rate=0.2))\n",
    "model.add(Dense(1, activation='sigmoid'))"
   ]
  },
  {
   "cell_type": "code",
   "execution_count": 21,
   "id": "7652ed1c",
   "metadata": {},
   "outputs": [],
   "source": [
    "model.compile(loss = \"binary_crossentropy\", optimizer = 'adam', metrics=['accuracy'])"
   ]
  },
  {
   "cell_type": "code",
   "execution_count": 22,
   "id": "7a496795",
   "metadata": {},
   "outputs": [
    {
     "name": "stdout",
     "output_type": "stream",
     "text": [
      "Epoch 1/10\n",
      "285/285 [==============================] - 2s 6ms/step - loss: 439.2450 - accuracy: 0.8513 - val_loss: 3.4047 - val_accuracy: 0.9187\n",
      "Epoch 2/10\n",
      "285/285 [==============================] - 2s 5ms/step - loss: 9.6639 - accuracy: 0.9060 - val_loss: 0.7540 - val_accuracy: 0.9190\n",
      "Epoch 3/10\n",
      "285/285 [==============================] - 2s 7ms/step - loss: 2.1020 - accuracy: 0.9161 - val_loss: 0.3239 - val_accuracy: 0.9190\n",
      "Epoch 4/10\n",
      "285/285 [==============================] - 2s 7ms/step - loss: 0.9704 - accuracy: 0.9177 - val_loss: 0.2874 - val_accuracy: 0.9190\n",
      "Epoch 5/10\n",
      "285/285 [==============================] - 2s 7ms/step - loss: 0.5237 - accuracy: 0.9181 - val_loss: 0.2824 - val_accuracy: 0.9190\n",
      "Epoch 6/10\n",
      "285/285 [==============================] - 2s 6ms/step - loss: 0.4619 - accuracy: 0.9182 - val_loss: 0.2813 - val_accuracy: 0.9190\n",
      "Epoch 7/10\n",
      "285/285 [==============================] - 2s 6ms/step - loss: 0.4040 - accuracy: 0.9183 - val_loss: 0.2812 - val_accuracy: 0.9190\n",
      "Epoch 8/10\n",
      "285/285 [==============================] - 2s 6ms/step - loss: 0.4031 - accuracy: 0.9183 - val_loss: 0.2860 - val_accuracy: 0.9190\n",
      "Epoch 9/10\n",
      "285/285 [==============================] - 2s 6ms/step - loss: 0.3452 - accuracy: 0.9184 - val_loss: 0.2812 - val_accuracy: 0.9190\n",
      "Epoch 10/10\n",
      "285/285 [==============================] - 2s 6ms/step - loss: 0.3606 - accuracy: 0.9184 - val_loss: 0.2883 - val_accuracy: 0.9190\n"
     ]
    }
   ],
   "source": [
    "history = model.fit(X_train, y_train, validation_data=(X_test, y_test), epochs=10, batch_size=1000)"
   ]
  },
  {
   "cell_type": "code",
   "execution_count": null,
   "id": "44f87390",
   "metadata": {},
   "outputs": [],
   "source": []
  }
 ],
 "metadata": {
  "kernelspec": {
   "display_name": "ML",
   "language": "python",
   "name": "ml"
  },
  "language_info": {
   "codemirror_mode": {
    "name": "ipython",
    "version": 3
   },
   "file_extension": ".py",
   "mimetype": "text/x-python",
   "name": "python",
   "nbconvert_exporter": "python",
   "pygments_lexer": "ipython3",
   "version": "3.9.12"
  }
 },
 "nbformat": 4,
 "nbformat_minor": 5
}
